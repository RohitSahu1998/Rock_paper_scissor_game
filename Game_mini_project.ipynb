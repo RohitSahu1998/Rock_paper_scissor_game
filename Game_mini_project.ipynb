{
 "cells": [
  {
   "cell_type": "code",
   "execution_count": 1,
   "id": "f45543d1",
   "metadata": {},
   "outputs": [],
   "source": [
    "import random"
   ]
  },
  {
   "cell_type": "code",
   "execution_count": 8,
   "id": "8fea0a6b",
   "metadata": {},
   "outputs": [
    {
     "name": "stdout",
     "output_type": "stream",
     "text": [
      "This is Rock,paper and Scissor Game\n",
      "Round 1 starts\n",
      "Please select any one option:\n",
      "1. Rock\n",
      "2. Paper\n",
      "3. Scissor\n",
      "3\n",
      "You selected Scissor\n",
      "Computer select  Scissor\n",
      "The round is Draw\n",
      "Round 2 starts\n",
      "Please select any one option:\n",
      "1. Rock\n",
      "2. Paper\n",
      "3. Scissor\n",
      "2\n",
      "You selected Paper\n",
      "Computer select  Paper\n",
      "The round is Draw\n",
      "Round 3 starts\n",
      "Please select any one option:\n",
      "1. Rock\n",
      "2. Paper\n",
      "3. Scissor\n",
      "4\n",
      "Invalid Input\n",
      "match drawn\n",
      "Score is = Your Score 2 Computer Score 2\n",
      "Want to play or not?(Yes/No)no\n"
     ]
    }
   ],
   "source": [
    "choose=['Rock','Paper','Scissor']\n",
    "while True:\n",
    "    print('This is Rock,paper and Scissor Game')\n",
    "    youwin,computerwin=0,0\n",
    "    for i in range(1,6):\n",
    "        print(f'Round {i} starts')\n",
    "        print('Please select any one option:')\n",
    "        print('1. Rock','2. Paper','3. Scissor',sep='\\n')\n",
    "        your_choice=int(input())\n",
    "        if your_choice==1:\n",
    "            print('You selected Rock')\n",
    "            your_choice='Rock'\n",
    "        elif your_choice==2:\n",
    "            print('You selected Paper')\n",
    "            your_choice='Paper'\n",
    "        elif your_choice==3:\n",
    "            print('You selected Scissor')\n",
    "            your_choice='Scissor'\n",
    "        else:\n",
    "            print('Invalid Input')\n",
    "            break\n",
    "        computer_choice=random.choice(choose)\n",
    "        print('Computer select ',computer_choice)\n",
    "        if your_choice==computer_choice:\n",
    "            youwin+=1\n",
    "            computerwin+=1\n",
    "            print('The round is Draw')\n",
    "        elif (your_choice=='Paper' and computer_choice=='Rock') or (your_choice=='Rock' and computer_choice=='Scissor'):\n",
    "            youwin+=1\n",
    "            print('You win this round ')\n",
    "        else:\n",
    "            computerwin+=1\n",
    "            print('computer wins this round')\n",
    "    \n",
    "    if youwin>computerwin:\n",
    "        print('You win the Game')\n",
    "        print('Score is =','Your Score',youwin,'Computer Score',computerwin,sep=' ')\n",
    "    elif youwin<computerwin:\n",
    "        print('Computer win the Game, you lose the game')\n",
    "        print('Score is =','Your Score',youwin,'Computer Score',computerwin,sep=' ')\n",
    "    else:\n",
    "        print('match drawn')\n",
    "        print('Score is =','Your Score',youwin,'Computer Score',computerwin,sep=' ')\n",
    "    user_choice=input('Want to play or not?(Yes/No)')\n",
    "    if user_choice=='yes' or user_choice=='Yes' or user_choice=='YES':\n",
    "        continue\n",
    "    else:\n",
    "        break"
   ]
  },
  {
   "cell_type": "code",
   "execution_count": null,
   "id": "a1542aec",
   "metadata": {},
   "outputs": [],
   "source": []
  },
  {
   "cell_type": "code",
   "execution_count": null,
   "id": "3f990a42",
   "metadata": {},
   "outputs": [],
   "source": []
  },
  {
   "cell_type": "code",
   "execution_count": null,
   "id": "be8ef8bf",
   "metadata": {},
   "outputs": [],
   "source": []
  },
  {
   "cell_type": "code",
   "execution_count": null,
   "id": "f785b4c8",
   "metadata": {},
   "outputs": [],
   "source": []
  },
  {
   "cell_type": "code",
   "execution_count": null,
   "id": "3a2cd191",
   "metadata": {},
   "outputs": [],
   "source": []
  }
 ],
 "metadata": {
  "kernelspec": {
   "display_name": "Python 3 (ipykernel)",
   "language": "python",
   "name": "python3"
  },
  "language_info": {
   "codemirror_mode": {
    "name": "ipython",
    "version": 3
   },
   "file_extension": ".py",
   "mimetype": "text/x-python",
   "name": "python",
   "nbconvert_exporter": "python",
   "pygments_lexer": "ipython3",
   "version": "3.9.12"
  }
 },
 "nbformat": 4,
 "nbformat_minor": 5
}
